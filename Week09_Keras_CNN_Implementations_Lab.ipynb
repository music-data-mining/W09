{
 "cells": [
  {
   "cell_type": "markdown",
   "metadata": {
    "id": "nEAZsOt6eoFH"
   },
   "source": [
    "**Week09 Keras CNN Implementations Lab**\n"
   ]
  },
  {
   "cell_type": "markdown",
   "metadata": {
    "id": "0Z2f9DbieoFL"
   },
   "source": [
    "Reference: Textbook notebook for chapter 14"
   ]
  },
  {
   "cell_type": "markdown",
   "metadata": {
    "id": "Fpjn7yTbeoFP"
   },
   "source": [
    "# Setup"
   ]
  },
  {
   "cell_type": "markdown",
   "metadata": {
    "id": "9bRlNip_eoFS"
   },
   "source": [
    "First, let's import a few common modules, ensure MatplotLib plots figures inline and prepare a function to save the figures. We also check that Python 3.5 or later is installed (although Python 2.x may work, it is deprecated so we strongly recommend you use Python 3 instead), as well as Scikit-Learn ≥0.20 and TensorFlow ≥2.0."
   ]
  },
  {
   "cell_type": "code",
   "execution_count": null,
   "metadata": {
    "colab": {
     "base_uri": "https://localhost:8080/"
    },
    "id": "NNUWO-6GeoFT",
    "outputId": "63948430-cc72-4c5e-c3f2-e6054554b5a9"
   },
   "outputs": [
    {
     "name": "stdout",
     "output_type": "stream",
     "text": [
      "Colab only includes TensorFlow 2.x; %tensorflow_version has no effect.\n"
     ]
    },
    {
     "name": "stderr",
     "output_type": "stream",
     "text": [
      "WARNING:tensorflow:From <ipython-input-1-be9deee809cd>:21: is_gpu_available (from tensorflow.python.framework.test_util) is deprecated and will be removed in a future version.\n",
      "Instructions for updating:\n",
      "Use `tf.config.list_physical_devices('GPU')` instead.\n"
     ]
    }
   ],
   "source": [
    "# Python ≥3.5 is required\n",
    "import sys\n",
    "assert sys.version_info >= (3, 5)\n",
    "\n",
    "# Scikit-Learn ≥0.20 is required\n",
    "import sklearn\n",
    "assert sklearn.__version__ >= \"0.20\"\n",
    "\n",
    "try:\n",
    "    # %tensorflow_version only exists in Colab.\n",
    "    %tensorflow_version 2.x\n",
    "    IS_COLAB = True\n",
    "except Exception:\n",
    "    IS_COLAB = False\n",
    "\n",
    "# TensorFlow ≥2.0 is required\n",
    "import tensorflow as tf\n",
    "from tensorflow import keras\n",
    "assert tf.__version__ >= \"2.0\"\n",
    "\n",
    "if not tf.test.is_gpu_available():\n",
    "    print(\"No GPU was detected. CNNs can be very slow without a GPU.\")\n",
    "    if IS_COLAB:\n",
    "        print(\"Go to Runtime > Change runtime and select a GPU hardware accelerator.\")\n",
    "\n",
    "# Common imports\n",
    "import numpy as np\n",
    "import os\n",
    "import pandas as pd\n",
    "\n",
    "# to make this notebook's output stable across runs\n",
    "np.random.seed(42)\n",
    "tf.random.set_seed(42)\n",
    "\n",
    "# To plot pretty figures\n",
    "%matplotlib inline\n",
    "import matplotlib as mpl\n",
    "import matplotlib.pyplot as plt\n",
    "mpl.rc('axes', labelsize=14)\n",
    "mpl.rc('xtick', labelsize=12)\n",
    "mpl.rc('ytick', labelsize=12)\n"
   ]
  },
  {
   "cell_type": "markdown",
   "metadata": {
    "id": "WDKAqUmAeoFa"
   },
   "source": [
    "A couple utility functions to plot grayscale and RGB images:"
   ]
  },
  {
   "cell_type": "markdown",
   "metadata": {
    "id": "4llqP5_neoGR"
   },
   "source": [
    "# Tackling Fashion MNIST With a CNN"
   ]
  },
  {
   "cell_type": "markdown",
   "metadata": {
    "id": "OFhTwtWbsStS"
   },
   "source": [
    "### Loading and Processing Data"
   ]
  },
  {
   "cell_type": "code",
   "execution_count": null,
   "metadata": {
    "id": "9pm8FSlkeoGR"
   },
   "outputs": [],
   "source": [
    "# Data Preprocessing Version 1\n",
    "# (X_train_full, y_train_full), (X_test, y_test) = keras.datasets.fashion_mnist.load_data()\n",
    "# X_train, X_valid = X_train_full[:-5000], X_train_full[-5000:]\n",
    "# y_train, y_valid = y_train_full[:-5000], y_train_full[-5000:]\n",
    "\n",
    "# X_mean = X_train.mean(axis=0, keepdims=True)\n",
    "# X_std = X_train.std(axis=0, keepdims=True) + 1e-7\n",
    "# X_train = (X_train - X_mean) / X_std\n",
    "# X_valid = (X_valid - X_mean) / X_std\n",
    "# X_test = (X_test - X_mean) / X_std\n",
    "\n",
    "# X_train = X_train[..., np.newaxis]\n",
    "# X_valid = X_valid[..., np.newaxis]\n",
    "# X_test = X_test[..., np.newaxis]"
   ]
  },
  {
   "cell_type": "code",
   "execution_count": null,
   "metadata": {
    "id": "rPYkZFi6lNpQ"
   },
   "outputs": [],
   "source": [
    "# Data Preprocessing Version 2\n",
    "# import tensorflow as tf\n",
    "# from tensorflow import keras\n",
    "\n",
    "# #Loading the dataset\n",
    "# fashion_mnist = keras.datasets.fashion_mnist\n",
    "# (X_train_full, y_train_full), (X_test, y_test) = fashion_mnist.load_data()\n",
    "\n",
    "# # splitting the full training set into a validation set and a (smaller) training set\n",
    "# # scaling the pixel intensities down to the 0-1 range\n",
    "# # and converting them to floats, by dividing by 255\n",
    "# X_valid, X_train = X_train_full[:5000] / 255., X_train_full[5000:] / 255.\n",
    "# y_valid, y_train = y_train_full[:5000], y_train_full[5000:]\n",
    "# X_test = X_test / 255.\n",
    "\n",
    "# X_train = X_train[..., np.newaxis]\n",
    "# X_valid = X_valid[..., np.newaxis]\n",
    "# X_test = X_test[..., np.newaxis]"
   ]
  },
  {
   "cell_type": "code",
   "execution_count": null,
   "metadata": {
    "colab": {
     "base_uri": "https://localhost:8080/"
    },
    "id": "8sE8obYGnrzR",
    "outputId": "962aa684-6f6b-4d1b-f621-47dc1ef44507"
   },
   "outputs": [
    {
     "name": "stdout",
     "output_type": "stream",
     "text": [
      "Downloading data from https://storage.googleapis.com/tensorflow/tf-keras-datasets/train-labels-idx1-ubyte.gz\n",
      "29515/29515 [==============================] - 0s 0us/step\n",
      "Downloading data from https://storage.googleapis.com/tensorflow/tf-keras-datasets/train-images-idx3-ubyte.gz\n",
      "26421880/26421880 [==============================] - 0s 0us/step\n",
      "Downloading data from https://storage.googleapis.com/tensorflow/tf-keras-datasets/t10k-labels-idx1-ubyte.gz\n",
      "5148/5148 [==============================] - 0s 0us/step\n",
      "Downloading data from https://storage.googleapis.com/tensorflow/tf-keras-datasets/t10k-images-idx3-ubyte.gz\n",
      "4422102/4422102 [==============================] - 0s 0us/step\n"
     ]
    }
   ],
   "source": [
    "# Data Preprocessing Version 3\n",
    "import tensorflow as tf\n",
    "from tensorflow import keras\n",
    "from sklearn.preprocessing import StandardScaler\n",
    "\n",
    "#Loading the dataset\n",
    "fashion_mnist = keras.datasets.fashion_mnist\n",
    "(X_train_full, y_train_full), (X_test, y_test) = fashion_mnist.load_data()\n",
    "\n",
    "scaler = StandardScaler()\n",
    "X_train_full = scaler.fit_transform(X_train_full.reshape(-1, X_train_full.shape[-1])).reshape(X_train_full.shape)\n",
    "X_test = scaler.transform(X_test.reshape(-1, X_test.shape[-1])).reshape(X_test.shape)\n",
    "\n",
    "X_valid, X_train = X_train_full[:5000], X_train_full[5000:] \n",
    "y_valid, y_train = y_train_full[:5000], y_train_full[5000:]\n",
    "\n",
    "X_train = X_train[..., np.newaxis]\n",
    "X_valid = X_valid[..., np.newaxis]\n",
    "X_test = X_test[..., np.newaxis]"
   ]
  },
  {
   "cell_type": "code",
   "execution_count": null,
   "metadata": {
    "colab": {
     "base_uri": "https://localhost:8080/"
    },
    "id": "U85jL9ePlkxT",
    "outputId": "380ba5a1-0a40-4568-f336-a9448f9789ac"
   },
   "outputs": [
    {
     "data": {
      "text/plain": [
       "(60000, 28, 28)"
      ]
     },
     "execution_count": 3,
     "metadata": {},
     "output_type": "execute_result"
    }
   ],
   "source": [
    "X_train_full.shape"
   ]
  },
  {
   "cell_type": "markdown",
   "metadata": {
    "id": "NFMOQUlasZYu"
   },
   "source": [
    "## Model #1\n",
    "\n",
    "- maxpooling\n",
    "- zero padding"
   ]
  },
  {
   "cell_type": "code",
   "execution_count": null,
   "metadata": {
    "id": "3ysBbfVXAeQj"
   },
   "outputs": [],
   "source": [
    "keras.backend.clear_session()\n",
    "np.random.seed(42)\n",
    "tf.random.set_seed(42)\n",
    "\n",
    "model = keras.models.Sequential([\n",
    "    keras.layers.Conv2D(filters=64, kernel_size=7, input_shape=[ 28, 28, 1], padding=\"SAME\", activation='relu'),\n",
    "    keras.layers.MaxPooling2D(pool_size=2),\n",
    "    keras.layers.Conv2D(filters=128, kernel_size=3, padding=\"SAME\", activation='relu'),\n",
    "    keras.layers.Conv2D(filters=128, kernel_size=3, padding=\"SAME\", activation='relu'),\n",
    "    keras.layers.MaxPooling2D(pool_size=2),\n",
    "    keras.layers.Conv2D(filters=256, kernel_size=3, padding=\"SAME\", activation='relu'),\n",
    "    keras.layers.Conv2D(filters=256, kernel_size=3, padding=\"SAME\", activation='relu'),\n",
    "    keras.layers.MaxPooling2D(pool_size=2),\n",
    "    keras.layers.Flatten(),\n",
    "    keras.layers.Dense(units=128, activation='relu'),\n",
    "    keras.layers.Dense(units=64, activation='relu'),\n",
    "    keras.layers.Dense(units=10, activation='softmax'),\n",
    "])"
   ]
  },
  {
   "cell_type": "code",
   "execution_count": null,
   "metadata": {
    "colab": {
     "base_uri": "https://localhost:8080/"
    },
    "id": "TTTf5sQxeoGT",
    "outputId": "2581cbe0-3871-49d4-efe0-91b223d7bc82"
   },
   "outputs": [
    {
     "name": "stderr",
     "output_type": "stream",
     "text": [
      "/usr/local/lib/python3.7/dist-packages/keras/optimizers/optimizer_v2/gradient_descent.py:108: UserWarning: The `lr` argument is deprecated, use `learning_rate` instead.\n",
      "  super(SGD, self).__init__(name, **kwargs)\n"
     ]
    },
    {
     "name": "stdout",
     "output_type": "stream",
     "text": [
      "Epoch 1/50\n",
      "1719/1719 [==============================] - 23s 8ms/step - loss: 1.8361 - accuracy: 0.4197 - val_loss: 0.8958 - val_accuracy: 0.6928\n",
      "Epoch 2/50\n",
      "1719/1719 [==============================] - 12s 7ms/step - loss: 0.8079 - accuracy: 0.7147 - val_loss: 0.6899 - val_accuracy: 0.7590\n",
      "Epoch 3/50\n",
      "1719/1719 [==============================] - 12s 7ms/step - loss: 0.6810 - accuracy: 0.7571 - val_loss: 0.6347 - val_accuracy: 0.7652\n",
      "Epoch 4/50\n",
      "1719/1719 [==============================] - 12s 7ms/step - loss: 0.6115 - accuracy: 0.7783 - val_loss: 0.5615 - val_accuracy: 0.8118\n",
      "Epoch 5/50\n",
      "1719/1719 [==============================] - 12s 7ms/step - loss: 0.5576 - accuracy: 0.7979 - val_loss: 0.5155 - val_accuracy: 0.8146\n",
      "Epoch 6/50\n",
      "1719/1719 [==============================] - 12s 7ms/step - loss: 0.5143 - accuracy: 0.8113 - val_loss: 0.4723 - val_accuracy: 0.8294\n",
      "Epoch 7/50\n",
      "1719/1719 [==============================] - 12s 7ms/step - loss: 0.4799 - accuracy: 0.8254 - val_loss: 0.4398 - val_accuracy: 0.8506\n",
      "Epoch 8/50\n",
      "1719/1719 [==============================] - 12s 7ms/step - loss: 0.4511 - accuracy: 0.8365 - val_loss: 0.4341 - val_accuracy: 0.8468\n",
      "Epoch 9/50\n",
      "1719/1719 [==============================] - 12s 7ms/step - loss: 0.4281 - accuracy: 0.8457 - val_loss: 0.4211 - val_accuracy: 0.8530\n",
      "Epoch 10/50\n",
      "1719/1719 [==============================] - 12s 7ms/step - loss: 0.4112 - accuracy: 0.8511 - val_loss: 0.3900 - val_accuracy: 0.8650\n",
      "Epoch 11/50\n",
      "1719/1719 [==============================] - 12s 7ms/step - loss: 0.3953 - accuracy: 0.8560 - val_loss: 0.3828 - val_accuracy: 0.8680\n",
      "Epoch 12/50\n",
      "1719/1719 [==============================] - 12s 7ms/step - loss: 0.3827 - accuracy: 0.8610 - val_loss: 0.3828 - val_accuracy: 0.8636\n",
      "Epoch 13/50\n",
      "1719/1719 [==============================] - 12s 7ms/step - loss: 0.3717 - accuracy: 0.8657 - val_loss: 0.3658 - val_accuracy: 0.8688\n",
      "Epoch 14/50\n",
      "1719/1719 [==============================] - 12s 7ms/step - loss: 0.3597 - accuracy: 0.8695 - val_loss: 0.3639 - val_accuracy: 0.8708\n",
      "Epoch 15/50\n",
      "1719/1719 [==============================] - 12s 7ms/step - loss: 0.3524 - accuracy: 0.8721 - val_loss: 0.3446 - val_accuracy: 0.8804\n",
      "Epoch 16/50\n",
      "1719/1719 [==============================] - 12s 7ms/step - loss: 0.3438 - accuracy: 0.8746 - val_loss: 0.3578 - val_accuracy: 0.8756\n",
      "Epoch 17/50\n",
      "1719/1719 [==============================] - 12s 7ms/step - loss: 0.3348 - accuracy: 0.8777 - val_loss: 0.3546 - val_accuracy: 0.8722\n",
      "Epoch 18/50\n",
      "1719/1719 [==============================] - 12s 7ms/step - loss: 0.3275 - accuracy: 0.8815 - val_loss: 0.3436 - val_accuracy: 0.8814\n",
      "Epoch 19/50\n",
      "1719/1719 [==============================] - 12s 7ms/step - loss: 0.3205 - accuracy: 0.8844 - val_loss: 0.3351 - val_accuracy: 0.8846\n",
      "Epoch 20/50\n",
      "1719/1719 [==============================] - 12s 7ms/step - loss: 0.3144 - accuracy: 0.8864 - val_loss: 0.3242 - val_accuracy: 0.8870\n",
      "Epoch 21/50\n",
      "1719/1719 [==============================] - 16s 9ms/step - loss: 0.3070 - accuracy: 0.8883 - val_loss: 0.3279 - val_accuracy: 0.8836\n",
      "Epoch 22/50\n",
      "1719/1719 [==============================] - 12s 7ms/step - loss: 0.3020 - accuracy: 0.8899 - val_loss: 0.3097 - val_accuracy: 0.8908\n",
      "Epoch 23/50\n",
      "1719/1719 [==============================] - 12s 7ms/step - loss: 0.2973 - accuracy: 0.8916 - val_loss: 0.3233 - val_accuracy: 0.8836\n",
      "Epoch 24/50\n",
      "1719/1719 [==============================] - 12s 7ms/step - loss: 0.2914 - accuracy: 0.8944 - val_loss: 0.3068 - val_accuracy: 0.8918\n",
      "Epoch 25/50\n",
      "1719/1719 [==============================] - 12s 7ms/step - loss: 0.2870 - accuracy: 0.8941 - val_loss: 0.3086 - val_accuracy: 0.8932\n",
      "Epoch 26/50\n",
      "1719/1719 [==============================] - 12s 7ms/step - loss: 0.2816 - accuracy: 0.8972 - val_loss: 0.3067 - val_accuracy: 0.8926\n",
      "Epoch 27/50\n",
      "1719/1719 [==============================] - 12s 7ms/step - loss: 0.2769 - accuracy: 0.9001 - val_loss: 0.3017 - val_accuracy: 0.8918\n",
      "Epoch 28/50\n",
      "1719/1719 [==============================] - 12s 7ms/step - loss: 0.2733 - accuracy: 0.8998 - val_loss: 0.3132 - val_accuracy: 0.8884\n",
      "Epoch 29/50\n",
      "1719/1719 [==============================] - 13s 7ms/step - loss: 0.2687 - accuracy: 0.9022 - val_loss: 0.2996 - val_accuracy: 0.8914\n",
      "Epoch 30/50\n",
      "1719/1719 [==============================] - 12s 7ms/step - loss: 0.2648 - accuracy: 0.9034 - val_loss: 0.2917 - val_accuracy: 0.8974\n",
      "Epoch 31/50\n",
      "1719/1719 [==============================] - 12s 7ms/step - loss: 0.2619 - accuracy: 0.9048 - val_loss: 0.3168 - val_accuracy: 0.8860\n",
      "Epoch 32/50\n",
      "1719/1719 [==============================] - 12s 7ms/step - loss: 0.2567 - accuracy: 0.9056 - val_loss: 0.2976 - val_accuracy: 0.8910\n",
      "Epoch 33/50\n",
      "1719/1719 [==============================] - 12s 7ms/step - loss: 0.2537 - accuracy: 0.9062 - val_loss: 0.2897 - val_accuracy: 0.8954\n",
      "Epoch 34/50\n",
      "1719/1719 [==============================] - 12s 7ms/step - loss: 0.2500 - accuracy: 0.9091 - val_loss: 0.3259 - val_accuracy: 0.8824\n",
      "Epoch 35/50\n",
      "1719/1719 [==============================] - 12s 7ms/step - loss: 0.2472 - accuracy: 0.9082 - val_loss: 0.2835 - val_accuracy: 0.8984\n",
      "Epoch 36/50\n",
      "1719/1719 [==============================] - 12s 7ms/step - loss: 0.2422 - accuracy: 0.9115 - val_loss: 0.2921 - val_accuracy: 0.8968\n",
      "Epoch 37/50\n",
      "1719/1719 [==============================] - 12s 7ms/step - loss: 0.2392 - accuracy: 0.9119 - val_loss: 0.2927 - val_accuracy: 0.8978\n",
      "Epoch 38/50\n",
      "1719/1719 [==============================] - 12s 7ms/step - loss: 0.2371 - accuracy: 0.9129 - val_loss: 0.2831 - val_accuracy: 0.8992\n",
      "Epoch 39/50\n",
      "1719/1719 [==============================] - 12s 7ms/step - loss: 0.2321 - accuracy: 0.9149 - val_loss: 0.2768 - val_accuracy: 0.9024\n",
      "Epoch 40/50\n",
      "1719/1719 [==============================] - 12s 7ms/step - loss: 0.2302 - accuracy: 0.9158 - val_loss: 0.2801 - val_accuracy: 0.8998\n",
      "Epoch 41/50\n",
      "1719/1719 [==============================] - 12s 7ms/step - loss: 0.2253 - accuracy: 0.9174 - val_loss: 0.2730 - val_accuracy: 0.8982\n",
      "Epoch 42/50\n",
      "1719/1719 [==============================] - 12s 7ms/step - loss: 0.2222 - accuracy: 0.9180 - val_loss: 0.2824 - val_accuracy: 0.8984\n",
      "Epoch 43/50\n",
      "1719/1719 [==============================] - 12s 7ms/step - loss: 0.2186 - accuracy: 0.9194 - val_loss: 0.2879 - val_accuracy: 0.8950\n",
      "Epoch 44/50\n",
      "1719/1719 [==============================] - 12s 7ms/step - loss: 0.2156 - accuracy: 0.9204 - val_loss: 0.2818 - val_accuracy: 0.8946\n",
      "Epoch 45/50\n",
      "1719/1719 [==============================] - 12s 7ms/step - loss: 0.2146 - accuracy: 0.9205 - val_loss: 0.2679 - val_accuracy: 0.9050\n",
      "Epoch 46/50\n",
      "1719/1719 [==============================] - 12s 7ms/step - loss: 0.2103 - accuracy: 0.9226 - val_loss: 0.2856 - val_accuracy: 0.9008\n",
      "Epoch 47/50\n",
      "1719/1719 [==============================] - 12s 7ms/step - loss: 0.2074 - accuracy: 0.9229 - val_loss: 0.2707 - val_accuracy: 0.8996\n",
      "Epoch 48/50\n",
      "1719/1719 [==============================] - 12s 7ms/step - loss: 0.2039 - accuracy: 0.9255 - val_loss: 0.2777 - val_accuracy: 0.9010\n",
      "Epoch 49/50\n",
      "1719/1719 [==============================] - 12s 7ms/step - loss: 0.2013 - accuracy: 0.9255 - val_loss: 0.2700 - val_accuracy: 0.9032\n",
      "Epoch 50/50\n",
      "1719/1719 [==============================] - 12s 7ms/step - loss: 0.1977 - accuracy: 0.9264 - val_loss: 0.2779 - val_accuracy: 0.8958\n"
     ]
    }
   ],
   "source": [
    "model.compile(loss=\"sparse_categorical_crossentropy\",\n",
    "              optimizer = keras.optimizers.SGD(learning_rate=0.0001, momentum=0.9),\n",
    "              metrics=[\"accuracy\"])\n",
    "\n",
    "history = model.fit(X_train, y_train, epochs=50,\n",
    "                    validation_data=(X_valid, y_valid),\n",
    "                    callbacks=[keras.callbacks.EarlyStopping(patience=10)])"
   ]
  },
  {
   "cell_type": "code",
   "execution_count": null,
   "metadata": {
    "colab": {
     "base_uri": "https://localhost:8080/",
     "height": 339
    },
    "id": "iTSVs47RDURN",
    "outputId": "d06acc87-7c1f-4240-bde2-95a92d8581e0"
   },
   "outputs": [
    {
     "data": {
      "image/png": "[encoded data removed]",
      "text/plain": [
       "<Figure size 576x360 with 1 Axes>"
      ]
     },
     "metadata": {
      "needs_background": "light"
     },
     "output_type": "display_data"
    }
   ],
   "source": [
    "pd.DataFrame(history.history).plot(figsize=(8, 5))\n",
    "plt.grid(True)\n",
    "#plt.gca().set_ylim(0, 1)\n",
    "plt.title(\"keras learning curves\")\n",
    "plt.show()"
   ]
  },
  {
   "cell_type": "code",
   "execution_count": null,
   "metadata": {
    "colab": {
     "base_uri": "https://localhost:8080/"
    },
    "id": "shaldfk6DfvF",
    "outputId": "50c1a0a8-e854-4ed7-f971-10b5d0eaa333"
   },
   "outputs": [
    {
     "name": "stdout",
     "output_type": "stream",
     "text": [
      "313/313 [==============================] - 1s 4ms/step - loss: 0.3075 - accuracy: 0.8893\n"
     ]
    },
    {
     "data": {
      "text/plain": [
       "[0.3074536621570587, 0.8892999887466431]"
      ]
     },
     "execution_count": 7,
     "metadata": {},
     "output_type": "execute_result"
    }
   ],
   "source": [
    "model.evaluate(X_test, y_test)"
   ]
  },
  {
   "cell_type": "markdown",
   "metadata": {
    "id": "ozZNR73PsoN0"
   },
   "source": [
    "## Model #2\n",
    "\n",
    "- no maxpooling\n",
    "- zero padding"
   ]
  },
  {
   "cell_type": "code",
   "execution_count": null,
   "metadata": {
    "id": "sj11irK_stR6"
   },
   "outputs": [],
   "source": [
    "keras.backend.clear_session()\n",
    "np.random.seed(42)\n",
    "tf.random.set_seed(42)\n",
    "\n",
    "model = keras.models.Sequential([\n",
    "    keras.layers.Conv2D(filters=64, kernel_size=7, input_shape=[ 28, 28, 1], padding=\"SAME\", activation='relu'),\n",
    "    keras.layers.Conv2D(filters=128, kernel_size=3, padding=\"SAME\", activation='relu'),\n",
    "    keras.layers.Conv2D(filters=128, kernel_size=3, padding=\"SAME\", activation='relu'),\n",
    "    keras.layers.Conv2D(filters=256, kernel_size=3, padding=\"SAME\", activation='relu'),\n",
    "    keras.layers.Conv2D(filters=256, kernel_size=3, padding=\"SAME\", activation='relu'),\n",
    "    keras.layers.Flatten(),\n",
    "    keras.layers.Dense(units=128, activation='relu'),\n",
    "    keras.layers.Dense(units=64, activation='relu'),\n",
    "    keras.layers.Dense(units=10, activation='softmax'),\n",
    "])   "
   ]
  },
  {
   "cell_type": "code",
   "execution_count": null,
   "metadata": {
    "colab": {
     "base_uri": "https://localhost:8080/"
    },
    "id": "bRIftR8dsvSp",
    "outputId": "95041a02-fc48-41da-8ef8-83e5351f4e14"
   },
   "outputs": [
    {
     "name": "stdout",
     "output_type": "stream",
     "text": [
      "Epoch 1/50\n",
      "1719/1719 [==============================] - 55s 31ms/step - loss: 1.0357 - accuracy: 0.6737 - val_loss: 0.5720 - val_accuracy: 0.7964\n",
      "Epoch 2/50\n",
      "1719/1719 [==============================] - 53s 31ms/step - loss: 0.5237 - accuracy: 0.8113 - val_loss: 0.4793 - val_accuracy: 0.8244\n",
      "Epoch 3/50\n",
      "1719/1719 [==============================] - 53s 31ms/step - loss: 0.4444 - accuracy: 0.8402 - val_loss: 0.4005 - val_accuracy: 0.8612\n",
      "Epoch 4/50\n",
      "1719/1719 [==============================] - 53s 31ms/step - loss: 0.4024 - accuracy: 0.8561 - val_loss: 0.3768 - val_accuracy: 0.8698\n",
      "Epoch 5/50\n",
      "1719/1719 [==============================] - 54s 31ms/step - loss: 0.3772 - accuracy: 0.8641 - val_loss: 0.3576 - val_accuracy: 0.8754\n",
      "Epoch 6/50\n",
      "1719/1719 [==============================] - 54s 31ms/step - loss: 0.3577 - accuracy: 0.8704 - val_loss: 0.3619 - val_accuracy: 0.8738\n",
      "Epoch 7/50\n",
      "1719/1719 [==============================] - 53s 31ms/step - loss: 0.3453 - accuracy: 0.8754 - val_loss: 0.3369 - val_accuracy: 0.8808\n",
      "Epoch 8/50\n",
      "1719/1719 [==============================] - 53s 31ms/step - loss: 0.3314 - accuracy: 0.8802 - val_loss: 0.3320 - val_accuracy: 0.8808\n",
      "Epoch 9/50\n",
      "1719/1719 [==============================] - 53s 31ms/step - loss: 0.3210 - accuracy: 0.8830 - val_loss: 0.3251 - val_accuracy: 0.8850\n",
      "Epoch 10/50\n",
      "1719/1719 [==============================] - 54s 31ms/step - loss: 0.3093 - accuracy: 0.8881 - val_loss: 0.3100 - val_accuracy: 0.8872\n",
      "Epoch 11/50\n",
      "1719/1719 [==============================] - 53s 31ms/step - loss: 0.3005 - accuracy: 0.8893 - val_loss: 0.3142 - val_accuracy: 0.8868\n",
      "Epoch 12/50\n",
      "1719/1719 [==============================] - 54s 31ms/step - loss: 0.2933 - accuracy: 0.8919 - val_loss: 0.3083 - val_accuracy: 0.8884\n",
      "Epoch 13/50\n",
      "1719/1719 [==============================] - 53s 31ms/step - loss: 0.2848 - accuracy: 0.8968 - val_loss: 0.2918 - val_accuracy: 0.8944\n",
      "Epoch 14/50\n",
      "1719/1719 [==============================] - 53s 31ms/step - loss: 0.2750 - accuracy: 0.8991 - val_loss: 0.3044 - val_accuracy: 0.8906\n",
      "Epoch 15/50\n",
      "1719/1719 [==============================] - 53s 31ms/step - loss: 0.2693 - accuracy: 0.9003 - val_loss: 0.2903 - val_accuracy: 0.8942\n",
      "Epoch 16/50\n",
      "1719/1719 [==============================] - 53s 31ms/step - loss: 0.2623 - accuracy: 0.9032 - val_loss: 0.2953 - val_accuracy: 0.8932\n",
      "Epoch 17/50\n",
      "1719/1719 [==============================] - 53s 31ms/step - loss: 0.2538 - accuracy: 0.9071 - val_loss: 0.2967 - val_accuracy: 0.8928\n",
      "Epoch 18/50\n",
      "1719/1719 [==============================] - 54s 31ms/step - loss: 0.2481 - accuracy: 0.9085 - val_loss: 0.2883 - val_accuracy: 0.8946\n",
      "Epoch 19/50\n",
      "1719/1719 [==============================] - 53s 31ms/step - loss: 0.2414 - accuracy: 0.9114 - val_loss: 0.2794 - val_accuracy: 0.8976\n",
      "Epoch 20/50\n",
      "1719/1719 [==============================] - 52s 31ms/step - loss: 0.2337 - accuracy: 0.9146 - val_loss: 0.2772 - val_accuracy: 0.8970\n",
      "Epoch 21/50\n",
      "1719/1719 [==============================] - 53s 31ms/step - loss: 0.2273 - accuracy: 0.9160 - val_loss: 0.2842 - val_accuracy: 0.8976\n",
      "Epoch 22/50\n",
      "1719/1719 [==============================] - 52s 31ms/step - loss: 0.2224 - accuracy: 0.9176 - val_loss: 0.2674 - val_accuracy: 0.9016\n",
      "Epoch 23/50\n",
      "1719/1719 [==============================] - 54s 31ms/step - loss: 0.2164 - accuracy: 0.9213 - val_loss: 0.2766 - val_accuracy: 0.9018\n",
      "Epoch 24/50\n",
      "1719/1719 [==============================] - 53s 31ms/step - loss: 0.2098 - accuracy: 0.9226 - val_loss: 0.2667 - val_accuracy: 0.9014\n",
      "Epoch 25/50\n",
      "1719/1719 [==============================] - 52s 30ms/step - loss: 0.2049 - accuracy: 0.9246 - val_loss: 0.2784 - val_accuracy: 0.9002\n",
      "Epoch 26/50\n",
      "1719/1719 [==============================] - 52s 31ms/step - loss: 0.2000 - accuracy: 0.9265 - val_loss: 0.2654 - val_accuracy: 0.9052\n",
      "Epoch 27/50\n",
      "1719/1719 [==============================] - 52s 30ms/step - loss: 0.1937 - accuracy: 0.9287 - val_loss: 0.2701 - val_accuracy: 0.9038\n",
      "Epoch 28/50\n",
      "1719/1719 [==============================] - 52s 30ms/step - loss: 0.1891 - accuracy: 0.9301 - val_loss: 0.2671 - val_accuracy: 0.9026\n",
      "Epoch 29/50\n",
      "1719/1719 [==============================] - 54s 31ms/step - loss: 0.1835 - accuracy: 0.9322 - val_loss: 0.2767 - val_accuracy: 0.8994\n",
      "Epoch 30/50\n",
      "1719/1719 [==============================] - 53s 31ms/step - loss: 0.1782 - accuracy: 0.9344 - val_loss: 0.2649 - val_accuracy: 0.9068\n",
      "Epoch 31/50\n",
      "1719/1719 [==============================] - 53s 31ms/step - loss: 0.1741 - accuracy: 0.9365 - val_loss: 0.2778 - val_accuracy: 0.9022\n",
      "Epoch 32/50\n",
      "1719/1719 [==============================] - 54s 31ms/step - loss: 0.1680 - accuracy: 0.9384 - val_loss: 0.2699 - val_accuracy: 0.9028\n",
      "Epoch 33/50\n",
      "1719/1719 [==============================] - 52s 30ms/step - loss: 0.1636 - accuracy: 0.9402 - val_loss: 0.2767 - val_accuracy: 0.9010\n",
      "Epoch 34/50\n",
      "1719/1719 [==============================] - 53s 31ms/step - loss: 0.1598 - accuracy: 0.9417 - val_loss: 0.2948 - val_accuracy: 0.8988\n",
      "Epoch 35/50\n",
      "1719/1719 [==============================] - 53s 31ms/step - loss: 0.1539 - accuracy: 0.9432 - val_loss: 0.2656 - val_accuracy: 0.9086\n",
      "Epoch 36/50\n",
      "1719/1719 [==============================] - 53s 31ms/step - loss: 0.1489 - accuracy: 0.9447 - val_loss: 0.2741 - val_accuracy: 0.9052\n",
      "Epoch 37/50\n",
      "1719/1719 [==============================] - 53s 31ms/step - loss: 0.1441 - accuracy: 0.9479 - val_loss: 0.2750 - val_accuracy: 0.9098\n",
      "Epoch 38/50\n",
      "1719/1719 [==============================] - 53s 31ms/step - loss: 0.1404 - accuracy: 0.9488 - val_loss: 0.2695 - val_accuracy: 0.9070\n",
      "Epoch 39/50\n",
      "1719/1719 [==============================] - 54s 31ms/step - loss: 0.1352 - accuracy: 0.9502 - val_loss: 0.2817 - val_accuracy: 0.9084\n",
      "Epoch 40/50\n",
      "1719/1719 [==============================] - 52s 30ms/step - loss: 0.1301 - accuracy: 0.9522 - val_loss: 0.2791 - val_accuracy: 0.9090\n"
     ]
    }
   ],
   "source": [
    "model.compile(loss=\"sparse_categorical_crossentropy\",\n",
    "              optimizer = keras.optimizers.SGD(learning_rate=0.0001, momentum=0.9),\n",
    "              metrics=[\"accuracy\"])\n",
    "\n",
    "history = model.fit(X_train, y_train, epochs=50,\n",
    "                    validation_data=(X_valid, y_valid),\n",
    "                    callbacks=[keras.callbacks.EarlyStopping(patience=10)])"
   ]
  },
  {
   "cell_type": "code",
   "execution_count": null,
   "metadata": {
    "colab": {
     "base_uri": "https://localhost:8080/",
     "height": 339
    },
    "id": "sFvplhPzsw3b",
    "outputId": "f61dbc43-bc1b-43e2-b053-7b4e1f97c0b5"
   },
   "outputs": [
    {
     "data": {
      "image/png": "[encoded data removed]",
      "text/plain": [
       "<Figure size 576x360 with 1 Axes>"
      ]
     },
     "metadata": {
      "needs_background": "light"
     },
     "output_type": "display_data"
    }
   ],
   "source": [
    "pd.DataFrame(history.history).plot(figsize=(8, 5))\n",
    "plt.grid(True)\n",
    "#plt.gca().set_ylim(0, 1)\n",
    "plt.title(\"keras learning curves\")\n",
    "plt.show()"
   ]
  },
  {
   "cell_type": "code",
   "execution_count": null,
   "metadata": {
    "colab": {
     "base_uri": "https://localhost:8080/"
    },
    "id": "kkRHvM2lsy0v",
    "outputId": "3dbd4685-7fc1-4a0e-8153-5d1bdefee607"
   },
   "outputs": [
    {
     "name": "stdout",
     "output_type": "stream",
     "text": [
      "313/313 [==============================] - 3s 11ms/step - loss: 0.3133 - accuracy: 0.8971\n"
     ]
    },
    {
     "data": {
      "text/plain": [
       "[0.3133382201194763, 0.8970999717712402]"
      ]
     },
     "execution_count": 11,
     "metadata": {},
     "output_type": "execute_result"
    }
   ],
   "source": [
    "model.evaluate(X_test, y_test)"
   ]
  }
 ],
 "metadata": {
  "accelerator": "GPU",
  "colab": {
   "collapsed_sections": [],
   "provenance": []
  },
  "kernelspec": {
   "display_name": "Python 3",
   "language": "python",
   "name": "python3"
  },
  "language_info": {
   "codemirror_mode": {
    "name": "ipython",
    "version": 3
   },
   "file_extension": ".py",
   "mimetype": "text/x-python",
   "name": "python",
   "nbconvert_exporter": "python",
   "pygments_lexer": "ipython3",
   "version": "3.8.5"
  },
  "nav_menu": {},
  "toc": {
   "navigate_menu": true,
   "number_sections": true,
   "sideBar": true,
   "threshold": 6,
   "toc_cell": false,
   "toc_section_display": "block",
   "toc_window_display": false
  }
 },
 "nbformat": 4,
 "nbformat_minor": 1
}
