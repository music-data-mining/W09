{
  "nbformat": 4,
  "nbformat_minor": 0,
  "metadata": {
    "colab": {
      "provenance": [],
      "collapsed_sections": []
    },
    "kernelspec": {
      "name": "python3",
      "display_name": "Python 3"
    },
    "accelerator": "GPU"
  },
  "cells": [
    {
      "cell_type": "markdown",
      "metadata": {
        "id": "cwZNmAY1glZj"
      },
      "source": [
        "#Week 09 Keras CNN Implementations Assignment Solution\n",
        "\n",
        "- Put this notebook under the fma directory\n",
        "- Build a fully connected neural network whose testing accuracy is greater than 40% \n",
        "- Data including features are ready so just write codes to build and complie your model"
      ]
    },
    {
      "cell_type": "code",
      "metadata": {
        "id": "bTX8ngCeg7SP",
        "colab": {
          "base_uri": "https://localhost:8080/"
        },
        "outputId": "3c9dd4d5-d5cd-4ac7-bf0f-895ba3655d71"
      },
      "source": [
        "from google.colab import drive\n",
        "drive.mount('/content/gdrive')"
      ],
      "execution_count": null,
      "outputs": [
        {
          "output_type": "stream",
          "name": "stdout",
          "text": [
            "Mounted at /content/gdrive\n"
          ]
        }
      ]
    },
    {
      "cell_type": "code",
      "metadata": {
        "id": "t9LWbUkHhBSo",
        "outputId": "cbddb227-89c4-4ff8-b31e-062835b46ec4",
        "colab": {
          "base_uri": "https://localhost:8080/"
        }
      },
      "source": [
        "# we assume you unzip FMA metadata and fma_small in `music_data_mining`, as specified in W07 lab\n",
        "FMA_DIR = \"/content/gdrive/MyDrive/music_data_mining/fma\"\n",
        "%cd '{FMA_DIR}'"
      ],
      "execution_count": null,
      "outputs": [
        {
          "output_type": "stream",
          "name": "stdout",
          "text": [
            "/content/gdrive/MyDrive/music_data_mining/fma\n"
          ]
        }
      ]
    },
    {
      "cell_type": "code",
      "metadata": {
        "id": "NEJeeFgAhEmX",
        "outputId": "af37be5d-d09f-4768-c0cd-63dd16920a54",
        "colab": {
          "base_uri": "https://localhost:8080/"
        }
      },
      "source": [
        "!pip3 install python-dotenv"
      ],
      "execution_count": null,
      "outputs": [
        {
          "output_type": "stream",
          "name": "stdout",
          "text": [
            "Looking in indexes: https://pypi.org/simple, https://us-python.pkg.dev/colab-wheels/public/simple/\n",
            "Collecting python-dotenv\n",
            "  Downloading python_dotenv-0.21.0-py3-none-any.whl (18 kB)\n",
            "Installing collected packages: python-dotenv\n",
            "Successfully installed python-dotenv-0.21.0\n"
          ]
        }
      ]
    },
    {
      "cell_type": "code",
      "metadata": {
        "id": "PijVwrlfglZo",
        "outputId": "bb27abc7-db19-4de4-c15e-479929934801",
        "colab": {
          "base_uri": "https://localhost:8080/"
        }
      },
      "source": [
        "import time\n",
        "import os\n",
        "\n",
        "import IPython.display as ipd\n",
        "from tqdm import tqdm_notebook\n",
        "\n",
        "# Common imports\n",
        "import numpy as np\n",
        "import pandas as pd\n",
        "\n",
        "import utils\n",
        "\n",
        "\n",
        "# Python ≥3.5 is required\n",
        "import sys\n",
        "assert sys.version_info >= (3, 5)\n",
        "\n",
        "# Scikit-Learn ≥0.20 is required\n",
        "import sklearn as skl\n",
        "#assert sklearn.__version__ >= \"0.20\"\n",
        "\n",
        "try:\n",
        "    # %tensorflow_version only exists in Colab.\n",
        "    %tensorflow_version 2.x\n",
        "except Exception:\n",
        "    pass\n",
        "\n",
        "# TensorFlow ≥2.0 is required\n",
        "import tensorflow as tf\n",
        "assert tf.__version__ >= \"2.0\"\n",
        "\n",
        "# to make this notebook's output stable across runs\n",
        "np.random.seed(42)\n",
        "\n",
        "# To plot pretty figures\n",
        "%matplotlib inline\n",
        "import matplotlib as mpl\n",
        "import matplotlib.pyplot as plt\n",
        "mpl.rc('axes', labelsize=14)\n",
        "mpl.rc('xtick', labelsize=12)\n",
        "mpl.rc('ytick', labelsize=12)\n",
        "\n",
        "# Ignore useless warnings (see SciPy issue #5998)\n",
        "import warnings\n",
        "warnings.filterwarnings(action=\"ignore\", message=\"^internal gelsd\")\n",
        "\n",
        "\n",
        "import tensorflow as tf\n",
        "from tensorflow import keras\n"
      ],
      "execution_count": null,
      "outputs": [
        {
          "output_type": "stream",
          "name": "stdout",
          "text": [
            "Colab only includes TensorFlow 2.x; %tensorflow_version has no effect.\n"
          ]
        }
      ]
    },
    {
      "cell_type": "code",
      "metadata": {
        "id": "vZvD6CY3glZw",
        "outputId": "c611a2c1-50cb-4033-b36e-e3e3b360201f",
        "colab": {
          "base_uri": "https://localhost:8080/"
        }
      },
      "source": [
        "# Directory where mp3 are stored.\n",
        "AUDIO_DIR = '../fma_small'\n",
        "\n",
        "# Load metadata and features.\n",
        "tracks = utils.load('../fma_metadata/tracks.csv')\n",
        "features = utils.load('../fma_metadata/features.csv')\n",
        "echonest = utils.load('../fma_metadata/echonest.csv')\n",
        "\n",
        "np.testing.assert_array_equal(features.index, tracks.index)\n",
        "assert echonest.index.isin(tracks.index).all()\n",
        "\n",
        "tracks.shape, features.shape, echonest.shape"
      ],
      "execution_count": null,
      "outputs": [
        {
          "output_type": "execute_result",
          "data": {
            "text/plain": [
              "((106574, 52), (106574, 518), (13129, 249))"
            ]
          },
          "metadata": {},
          "execution_count": 7
        }
      ]
    },
    {
      "cell_type": "markdown",
      "metadata": {
        "id": "g1A2L9nGglZ1"
      },
      "source": [
        "## Subset"
      ]
    },
    {
      "cell_type": "code",
      "metadata": {
        "id": "tj5sFzdeglZ3",
        "outputId": "182738c6-e8ef-42d7-f9a0-ba9fb81a8af8",
        "colab": {
          "base_uri": "https://localhost:8080/"
        }
      },
      "source": [
        "subset = tracks.index[tracks['set', 'subset'] <= 'small']\n",
        "\n",
        "assert subset.isin(tracks.index).all()\n",
        "assert subset.isin(features.index).all()\n",
        "\n",
        "features_all = features.join(echonest, how='inner').sort_index(axis=1)\n",
        "print('Not enough Echonest features: {}'.format(features_all.shape))\n",
        "\n",
        "tracks = tracks.loc[subset]\n",
        "features_all = features.loc[subset]\n",
        "\n",
        "tracks.shape, features_all.shape"
      ],
      "execution_count": null,
      "outputs": [
        {
          "output_type": "stream",
          "name": "stdout",
          "text": [
            "Not enough Echonest features: (13129, 767)\n"
          ]
        },
        {
          "output_type": "execute_result",
          "data": {
            "text/plain": [
              "((8000, 52), (8000, 518))"
            ]
          },
          "metadata": {},
          "execution_count": 8
        }
      ]
    },
    {
      "cell_type": "code",
      "metadata": {
        "id": "x2LHi99gglZ6",
        "outputId": "10bd47b7-3ad2-4a02-a8d3-6b4adb7bb8fe",
        "colab": {
          "base_uri": "https://localhost:8080/"
        }
      },
      "source": [
        "train = tracks.index[tracks['set', 'split'] == 'training']\n",
        "val = tracks.index[tracks['set', 'split'] == 'validation']\n",
        "test = tracks.index[tracks['set', 'split'] == 'test']\n",
        "\n",
        "print('{} training examples, {} validation examples, {} testing examples'.format(*map(len, [train, val, test])))\n",
        "\n",
        "# X_train = features.loc[train, ['mfcc', 'spectral_contrast', 'chroma_cens', 'spectral_centroid', 'zcr']]\n",
        "# X_test = features.loc[test, ['mfcc', 'spectral_contrast', 'chroma_cens', 'spectral_centroid', 'zcr']]\n",
        "# X_valid = features.loc[val, ['mfcc', 'spectral_contrast', 'chroma_cens', 'spectral_centroid', 'zcr']]\n",
        "X_train = features.loc[train, 'mfcc']\n",
        "X_test = features.loc[test, 'mfcc']\n",
        "X_valid = features.loc[val, 'mfcc']\n",
        "\n",
        "y_train = tracks.loc[ train, ('track', 'genre_top')]\n",
        "y_test = tracks.loc[test, ('track', 'genre_top')]\n",
        "y_valid = tracks.loc[val, ('track', 'genre_top')]\n",
        "\n",
        "from sklearn import preprocessing\n",
        "enc = preprocessing.LabelEncoder()\n",
        "y_train = enc.fit_transform(y_train)\n",
        "y_test = enc.transform(y_test)\n",
        "y_valid = enc.transform(y_valid)\n",
        "\n",
        "X_train=np.array(X_train)\n",
        "X_test=np.array(X_test)\n",
        "X_valid=np.array(X_valid)\n",
        "\n",
        "X_train=X_train.reshape((6400, 7, 20))\n",
        "X_valid=X_valid.reshape((800, 7, 20))\n",
        "X_test=X_test.reshape((800, 7, 20))\n",
        "\n",
        "X_train = X_train[..., np.newaxis]\n",
        "X_valid = X_valid[..., np.newaxis]\n",
        "X_test = X_test[..., np.newaxis]\n",
        "\n",
        "# print(y_train[:10], y_test[:10])"
      ],
      "execution_count": null,
      "outputs": [
        {
          "output_type": "stream",
          "name": "stdout",
          "text": [
            "6400 training examples, 800 validation examples, 800 testing examples\n"
          ]
        }
      ]
    },
    {
      "cell_type": "code",
      "metadata": {
        "id": "89at7XM8s-5D",
        "outputId": "ba3cb8a8-e9c2-482d-8ff2-9f755b205c1f",
        "colab": {
          "base_uri": "https://localhost:8080/"
        }
      },
      "source": [
        "print(X_train.shape)\n",
        "print(X_valid.shape)\n",
        "print(X_test.shape)"
      ],
      "execution_count": null,
      "outputs": [
        {
          "output_type": "stream",
          "name": "stdout",
          "text": [
            "(6400, 7, 20, 1)\n",
            "(800, 7, 20, 1)\n",
            "(800, 7, 20, 1)\n"
          ]
        }
      ]
    },
    {
      "cell_type": "markdown",
      "metadata": {
        "id": "LQ-WbbFXglaK"
      },
      "source": [
        "## 2 Deep learning on extracted features\n"
      ]
    },
    {
      "cell_type": "markdown",
      "metadata": {
        "id": "V5KfPUzNglaR"
      },
      "source": [
        "## CNN\n"
      ]
    },
    {
      "cell_type": "code",
      "metadata": {
        "id": "CreY1qgHhuwp"
      },
      "source": [
        "keras.backend.clear_session()\n",
        "np.random.seed(42)\n",
        "tf.random.set_seed(42)\n",
        "\n",
        "## CNN\n",
        "## Build a CNN whose testing accuracy is greater than 40%\n",
        "\n"
      ],
      "execution_count": null,
      "outputs": []
    },
    {
      "cell_type": "code",
      "metadata": {
        "id": "TpFvQU8Dq6et"
      },
      "source": [
        "model.summary()"
      ],
      "execution_count": null,
      "outputs": []
    },
    {
      "cell_type": "code",
      "metadata": {
        "id": "V73OlgMmiaq8",
        "outputId": "e35c9060-56d9-43e3-d768-ec2e5b6742ca",
        "colab": {
          "base_uri": "https://localhost:8080/",
          "height": 986
        }
      },
      "source": [
        "model.compile(loss=\"sparse_categorical_crossentropy\",\n",
        "              optimizer = keras.optimizers.SGD(lr=0.0001, momentum=0.9),\n",
        "              metrics=[\"accuracy\"])\n",
        "\n",
        "history = model.fit(X_train, y_train, epochs=200,\n",
        "                    validation_data=(X_valid, y_valid),\n",
        "                    callbacks=[keras.callbacks.EarlyStopping(patience=10)])"
      ],
      "execution_count": null,
      "outputs": [
        {
          "output_type": "stream",
          "text": [
            "Train on 6400 samples, validate on 800 samples\n",
            "Epoch 1/200\n",
            "6400/6400 [==============================] - 7s 1ms/sample - loss: 2.1711 - accuracy: 0.3114 - val_loss: 1.7020 - val_accuracy: 0.3887\n",
            "Epoch 2/200\n",
            "6400/6400 [==============================] - 1s 182us/sample - loss: 1.6688 - accuracy: 0.4013 - val_loss: 1.5440 - val_accuracy: 0.4425\n",
            "Epoch 3/200\n",
            "6400/6400 [==============================] - 1s 184us/sample - loss: 1.5928 - accuracy: 0.4306 - val_loss: 1.6527 - val_accuracy: 0.4250\n",
            "Epoch 4/200\n",
            "6400/6400 [==============================] - 1s 180us/sample - loss: 1.5627 - accuracy: 0.4483 - val_loss: 1.4776 - val_accuracy: 0.4725\n",
            "Epoch 5/200\n",
            "6400/6400 [==============================] - 1s 183us/sample - loss: 1.5455 - accuracy: 0.4411 - val_loss: 1.4656 - val_accuracy: 0.4950\n",
            "Epoch 6/200\n",
            "6400/6400 [==============================] - 1s 181us/sample - loss: 1.4924 - accuracy: 0.4620 - val_loss: 1.5116 - val_accuracy: 0.4900\n",
            "Epoch 7/200\n",
            "6400/6400 [==============================] - 1s 181us/sample - loss: 1.4710 - accuracy: 0.4714 - val_loss: 1.4805 - val_accuracy: 0.4437\n",
            "Epoch 8/200\n",
            "6400/6400 [==============================] - 1s 178us/sample - loss: 1.4786 - accuracy: 0.4672 - val_loss: 1.5576 - val_accuracy: 0.4412\n",
            "Epoch 9/200\n",
            "6400/6400 [==============================] - 1s 181us/sample - loss: 1.4638 - accuracy: 0.4736 - val_loss: 1.4680 - val_accuracy: 0.4737\n",
            "Epoch 10/200\n",
            "6400/6400 [==============================] - 1s 187us/sample - loss: 1.4329 - accuracy: 0.4889 - val_loss: 1.4615 - val_accuracy: 0.4500\n",
            "Epoch 11/200\n",
            "6400/6400 [==============================] - 1s 183us/sample - loss: 1.4205 - accuracy: 0.4941 - val_loss: 1.4323 - val_accuracy: 0.4950\n",
            "Epoch 12/200\n",
            "6400/6400 [==============================] - 1s 180us/sample - loss: 1.4095 - accuracy: 0.4889 - val_loss: 1.4751 - val_accuracy: 0.4688\n",
            "Epoch 13/200\n",
            "6400/6400 [==============================] - 1s 181us/sample - loss: 1.4039 - accuracy: 0.4944 - val_loss: 1.4374 - val_accuracy: 0.4863\n",
            "Epoch 14/200\n",
            "6400/6400 [==============================] - 1s 189us/sample - loss: 1.4119 - accuracy: 0.4955 - val_loss: 1.4193 - val_accuracy: 0.5075\n",
            "Epoch 15/200\n",
            "6400/6400 [==============================] - 1s 178us/sample - loss: 1.3847 - accuracy: 0.5030 - val_loss: 1.4623 - val_accuracy: 0.4762\n",
            "Epoch 16/200\n",
            "6400/6400 [==============================] - 1s 179us/sample - loss: 1.3767 - accuracy: 0.5083 - val_loss: 1.4528 - val_accuracy: 0.4950\n",
            "Epoch 17/200\n",
            "6400/6400 [==============================] - 1s 180us/sample - loss: 1.3569 - accuracy: 0.5138 - val_loss: 1.4345 - val_accuracy: 0.5000\n",
            "Epoch 18/200\n",
            "6400/6400 [==============================] - 1s 181us/sample - loss: 1.3619 - accuracy: 0.5192 - val_loss: 1.4063 - val_accuracy: 0.5225\n",
            "Epoch 19/200\n",
            "6400/6400 [==============================] - 1s 175us/sample - loss: 1.3409 - accuracy: 0.5225 - val_loss: 1.4266 - val_accuracy: 0.4812\n",
            "Epoch 20/200\n",
            "6400/6400 [==============================] - 1s 186us/sample - loss: 1.3330 - accuracy: 0.5245 - val_loss: 1.4199 - val_accuracy: 0.4925\n",
            "Epoch 21/200\n",
            "6400/6400 [==============================] - 1s 179us/sample - loss: 1.3390 - accuracy: 0.5169 - val_loss: 1.4481 - val_accuracy: 0.5113\n",
            "Epoch 22/200\n",
            "6400/6400 [==============================] - 1s 178us/sample - loss: 1.3312 - accuracy: 0.5289 - val_loss: 1.4358 - val_accuracy: 0.5125\n",
            "Epoch 23/200\n",
            "6400/6400 [==============================] - 1s 175us/sample - loss: 1.3120 - accuracy: 0.5323 - val_loss: 1.4410 - val_accuracy: 0.4837\n",
            "Epoch 24/200\n",
            "6400/6400 [==============================] - 1s 179us/sample - loss: 1.3314 - accuracy: 0.5256 - val_loss: 1.4618 - val_accuracy: 0.4825\n",
            "Epoch 25/200\n",
            "6400/6400 [==============================] - 1s 182us/sample - loss: 1.3017 - accuracy: 0.5392 - val_loss: 1.4222 - val_accuracy: 0.5000\n",
            "Epoch 26/200\n",
            "6400/6400 [==============================] - 1s 183us/sample - loss: 1.3038 - accuracy: 0.5431 - val_loss: 1.4233 - val_accuracy: 0.5025\n",
            "Epoch 27/200\n",
            "6400/6400 [==============================] - 1s 181us/sample - loss: 1.2965 - accuracy: 0.5389 - val_loss: 1.4465 - val_accuracy: 0.4988\n",
            "Epoch 28/200\n",
            "6400/6400 [==============================] - 1s 189us/sample - loss: 1.2877 - accuracy: 0.5434 - val_loss: 1.4542 - val_accuracy: 0.5175\n"
          ],
          "name": "stdout"
        }
      ]
    },
    {
      "cell_type": "code",
      "metadata": {
        "id": "ZqSjzTboqq6W",
        "outputId": "5fd464dd-a61a-48fe-90ff-d0b06000f538",
        "colab": {
          "base_uri": "https://localhost:8080/",
          "height": 339
        }
      },
      "source": [
        "import pandas as pd\n",
        "pd.DataFrame(history.history).plot(figsize=(8, 5))\n",
        "plt.grid(True)\n",
        "\n",
        "plt.title(\"keras learning curves\")\n",
        "plt.show()"
      ],
      "execution_count": null,
      "outputs": [
        {
          "output_type": "display_data",
          "data": {
            "image/png": "[encoded data removed]",
            "text/plain": [
              "<Figure size 576x360 with 1 Axes>"
            ]
          },
          "metadata": {
            "tags": []
          }
        }
      ]
    },
    {
      "cell_type": "code",
      "metadata": {
        "id": "85CZkphKqrsO",
        "outputId": "3d36c87c-cb49-4824-d8dd-bb585419a1f4",
        "colab": {
          "base_uri": "https://localhost:8080/",
          "height": 51
        }
      },
      "source": [
        "model.evaluate(X_test, y_test)"
      ],
      "execution_count": null,
      "outputs": [
        {
          "output_type": "stream",
          "text": [
            "800/800 [==============================] - 0s 96us/sample - loss: 1.8382 - accuracy: 0.4050\n"
          ],
          "name": "stdout"
        },
        {
          "output_type": "execute_result",
          "data": {
            "text/plain": [
              "[1.8381676292419433, 0.405]"
            ]
          },
          "metadata": {
            "tags": []
          },
          "execution_count": 14
        }
      ]
    },
    {
      "cell_type": "code",
      "metadata": {
        "id": "Kh9a--DCygpS"
      },
      "source": [],
      "execution_count": null,
      "outputs": []
    }
  ]
}